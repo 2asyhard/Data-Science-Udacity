{
 "cells": [
  {
   "cell_type": "markdown",
   "id": "c6a7af51",
   "metadata": {},
   "source": [
    "# Data Science Project 1"
   ]
  },
  {
   "cell_type": "markdown",
   "id": "33e88a00",
   "metadata": {},
   "source": [
    "## 1. Business Understanding"
   ]
  },
  {
   "cell_type": "markdown",
   "id": "dd87e91f",
   "metadata": {},
   "source": [
    "#### In this project I will be analyzing Stackoverflow survey 2017 dataset. And answer the questions below using Pandas, Numpy and Scikit-learn"
   ]
  },
  {
   "cell_type": "markdown",
   "id": "0253b9cd",
   "metadata": {},
   "source": [
    "### Questions\n",
    "1. How would you rank the most used programming languages among respondents?\n",
    "2. Is there a difference in programming languages between people with high salaries and those with low salaries?\n",
    "3. Which feature can best predict salary?\n",
    "4. Can you find a pattern related to salary using the best column in the results of Q3?"
   ]
  },
  {
   "cell_type": "markdown",
   "id": "89683ab5",
   "metadata": {},
   "source": [
    "## 2. Data Understanding"
   ]
  },
  {
   "cell_type": "markdown",
   "id": "095a63c6",
   "metadata": {},
   "source": [
    "### Import libraries"
   ]
  },
  {
   "cell_type": "code",
   "execution_count": 1,
   "id": "4c643f5a",
   "metadata": {},
   "outputs": [],
   "source": [
    "import numpy as np\n",
    "import pandas as pd\n",
    "import matplotlib.pyplot as plt\n",
    "from sklearn.linear_model import LinearRegression\n",
    "from sklearn.model_selection import train_test_split\n",
    "from sklearn.metrics import r2_score\n",
    "import seaborn as sns\n",
    "import warnings\n",
    "warnings.filterwarnings(action='ignore')\n",
    "%matplotlib inline\n",
    "%load_ext autoreload\n",
    "%autoreload 2"
   ]
  },
  {
   "cell_type": "markdown",
   "id": "3da090cc",
   "metadata": {},
   "source": [
    "### Import dataset"
   ]
  },
  {
   "cell_type": "markdown",
   "id": "065c0dab",
   "metadata": {},
   "source": [
    "#### function to import dataset"
   ]
  },
  {
   "cell_type": "code",
   "execution_count": 2,
   "id": "353b439a",
   "metadata": {},
   "outputs": [],
   "source": [
    "def import_data():\n",
    "    return pd.read_csv('./survey_results_public_2017.csv')"
   ]
  },
  {
   "cell_type": "code",
   "execution_count": 58,
   "id": "0d18b15e",
   "metadata": {
    "scrolled": false
   },
   "outputs": [
    {
     "name": "stdout",
     "output_type": "stream",
     "text": [
      "df shape: (51392, 154)\n"
     ]
    },
    {
     "data": {
      "text/html": [
       "<div>\n",
       "<style scoped>\n",
       "    .dataframe tbody tr th:only-of-type {\n",
       "        vertical-align: middle;\n",
       "    }\n",
       "\n",
       "    .dataframe tbody tr th {\n",
       "        vertical-align: top;\n",
       "    }\n",
       "\n",
       "    .dataframe thead th {\n",
       "        text-align: right;\n",
       "    }\n",
       "</style>\n",
       "<table border=\"1\" class=\"dataframe\">\n",
       "  <thead>\n",
       "    <tr style=\"text-align: right;\">\n",
       "      <th></th>\n",
       "      <th>Respondent</th>\n",
       "      <th>Professional</th>\n",
       "      <th>ProgramHobby</th>\n",
       "      <th>Country</th>\n",
       "      <th>University</th>\n",
       "      <th>EmploymentStatus</th>\n",
       "      <th>FormalEducation</th>\n",
       "      <th>MajorUndergrad</th>\n",
       "      <th>HomeRemote</th>\n",
       "      <th>CompanySize</th>\n",
       "      <th>...</th>\n",
       "      <th>StackOverflowMakeMoney</th>\n",
       "      <th>Gender</th>\n",
       "      <th>HighestEducationParents</th>\n",
       "      <th>Race</th>\n",
       "      <th>SurveyLong</th>\n",
       "      <th>QuestionsInteresting</th>\n",
       "      <th>QuestionsConfusing</th>\n",
       "      <th>InterestedAnswers</th>\n",
       "      <th>Salary</th>\n",
       "      <th>ExpectedSalary</th>\n",
       "    </tr>\n",
       "  </thead>\n",
       "  <tbody>\n",
       "    <tr>\n",
       "      <th>0</th>\n",
       "      <td>1</td>\n",
       "      <td>Student</td>\n",
       "      <td>Yes, both</td>\n",
       "      <td>United States</td>\n",
       "      <td>No</td>\n",
       "      <td>Not employed, and not looking for work</td>\n",
       "      <td>Secondary school</td>\n",
       "      <td>NaN</td>\n",
       "      <td>NaN</td>\n",
       "      <td>NaN</td>\n",
       "      <td>...</td>\n",
       "      <td>Strongly disagree</td>\n",
       "      <td>Male</td>\n",
       "      <td>High school</td>\n",
       "      <td>White or of European descent</td>\n",
       "      <td>Strongly disagree</td>\n",
       "      <td>Strongly agree</td>\n",
       "      <td>Disagree</td>\n",
       "      <td>Strongly agree</td>\n",
       "      <td>NaN</td>\n",
       "      <td>NaN</td>\n",
       "    </tr>\n",
       "    <tr>\n",
       "      <th>1</th>\n",
       "      <td>2</td>\n",
       "      <td>Student</td>\n",
       "      <td>Yes, both</td>\n",
       "      <td>United Kingdom</td>\n",
       "      <td>Yes, full-time</td>\n",
       "      <td>Employed part-time</td>\n",
       "      <td>Some college/university study without earning ...</td>\n",
       "      <td>Computer science or software engineering</td>\n",
       "      <td>More than half, but not all, the time</td>\n",
       "      <td>20 to 99 employees</td>\n",
       "      <td>...</td>\n",
       "      <td>Strongly disagree</td>\n",
       "      <td>Male</td>\n",
       "      <td>A master's degree</td>\n",
       "      <td>White or of European descent</td>\n",
       "      <td>Somewhat agree</td>\n",
       "      <td>Somewhat agree</td>\n",
       "      <td>Disagree</td>\n",
       "      <td>Strongly agree</td>\n",
       "      <td>NaN</td>\n",
       "      <td>37,500.00000</td>\n",
       "    </tr>\n",
       "    <tr>\n",
       "      <th>2</th>\n",
       "      <td>3</td>\n",
       "      <td>Professional developer</td>\n",
       "      <td>Yes, both</td>\n",
       "      <td>United Kingdom</td>\n",
       "      <td>No</td>\n",
       "      <td>Employed full-time</td>\n",
       "      <td>Bachelor's degree</td>\n",
       "      <td>Computer science or software engineering</td>\n",
       "      <td>Less than half the time, but at least one day ...</td>\n",
       "      <td>10,000 or more employees</td>\n",
       "      <td>...</td>\n",
       "      <td>Disagree</td>\n",
       "      <td>Male</td>\n",
       "      <td>A professional degree</td>\n",
       "      <td>White or of European descent</td>\n",
       "      <td>Somewhat agree</td>\n",
       "      <td>Agree</td>\n",
       "      <td>Disagree</td>\n",
       "      <td>Agree</td>\n",
       "      <td>113,750.00000</td>\n",
       "      <td>NaN</td>\n",
       "    </tr>\n",
       "  </tbody>\n",
       "</table>\n",
       "<p>3 rows × 154 columns</p>\n",
       "</div>"
      ],
      "text/plain": [
       "   Respondent            Professional ProgramHobby         Country  \\\n",
       "0           1                 Student    Yes, both   United States   \n",
       "1           2                 Student    Yes, both  United Kingdom   \n",
       "2           3  Professional developer    Yes, both  United Kingdom   \n",
       "\n",
       "       University                        EmploymentStatus  \\\n",
       "0              No  Not employed, and not looking for work   \n",
       "1  Yes, full-time                      Employed part-time   \n",
       "2              No                      Employed full-time   \n",
       "\n",
       "                                     FormalEducation  \\\n",
       "0                                   Secondary school   \n",
       "1  Some college/university study without earning ...   \n",
       "2                                  Bachelor's degree   \n",
       "\n",
       "                             MajorUndergrad  \\\n",
       "0                                       NaN   \n",
       "1  Computer science or software engineering   \n",
       "2  Computer science or software engineering   \n",
       "\n",
       "                                          HomeRemote  \\\n",
       "0                                                NaN   \n",
       "1              More than half, but not all, the time   \n",
       "2  Less than half the time, but at least one day ...   \n",
       "\n",
       "                CompanySize  ... StackOverflowMakeMoney Gender  \\\n",
       "0                       NaN  ...      Strongly disagree   Male   \n",
       "1        20 to 99 employees  ...      Strongly disagree   Male   \n",
       "2  10,000 or more employees  ...               Disagree   Male   \n",
       "\n",
       "  HighestEducationParents                          Race         SurveyLong  \\\n",
       "0             High school  White or of European descent  Strongly disagree   \n",
       "1       A master's degree  White or of European descent     Somewhat agree   \n",
       "2   A professional degree  White or of European descent     Somewhat agree   \n",
       "\n",
       "  QuestionsInteresting QuestionsConfusing InterestedAnswers        Salary  \\\n",
       "0       Strongly agree           Disagree    Strongly agree           NaN   \n",
       "1       Somewhat agree           Disagree    Strongly agree           NaN   \n",
       "2                Agree           Disagree             Agree 113,750.00000   \n",
       "\n",
       "   ExpectedSalary  \n",
       "0             NaN  \n",
       "1    37,500.00000  \n",
       "2             NaN  \n",
       "\n",
       "[3 rows x 154 columns]"
      ]
     },
     "execution_count": 58,
     "metadata": {},
     "output_type": "execute_result"
    }
   ],
   "source": [
    "df = import_data()\n",
    "print(f\"df shape: {df.shape}\")\n",
    "df.head(3)"
   ]
  },
  {
   "cell_type": "markdown",
   "id": "3478a9fc",
   "metadata": {},
   "source": [
    "#### Check for nan values"
   ]
  },
  {
   "cell_type": "code",
   "execution_count": 4,
   "id": "2aae8943",
   "metadata": {},
   "outputs": [
    {
     "name": "stdout",
     "output_type": "stream",
     "text": [
      "There are 147 columns with at least one nan value\n"
     ]
    }
   ],
   "source": [
    "df_null = df.isnull().sum()\n",
    "print(f\"There are {len(df.columns[df_null>0])} columns with at least one nan value\")"
   ]
  },
  {
   "cell_type": "markdown",
   "id": "ef49e293",
   "metadata": {},
   "source": [
    "#### Check for datatypes for each columns"
   ]
  },
  {
   "cell_type": "code",
   "execution_count": 5,
   "id": "25506c80",
   "metadata": {},
   "outputs": [
    {
     "name": "stdout",
     "output_type": "stream",
     "text": [
      "Data type of columns in dataframe\n"
     ]
    },
    {
     "data": {
      "text/plain": [
       "object     147\n",
       "float64      6\n",
       "int64        1\n",
       "dtype: int64"
      ]
     },
     "execution_count": 5,
     "metadata": {},
     "output_type": "execute_result"
    }
   ],
   "source": [
    "print(\"Data type of columns in dataframe\")\n",
    "df.dtypes.value_counts()"
   ]
  },
  {
   "cell_type": "markdown",
   "id": "a1b96a02",
   "metadata": {},
   "source": [
    "### Next CRISP-DM process will be done for each questions"
   ]
  },
  {
   "cell_type": "markdown",
   "id": "4f37da73",
   "metadata": {},
   "source": [
    "***"
   ]
  },
  {
   "cell_type": "markdown",
   "id": "72bb5bc6",
   "metadata": {},
   "source": [
    "## Q1. How would you rank the most used programming languages among respondents?"
   ]
  },
  {
   "cell_type": "markdown",
   "id": "62eb3d7f",
   "metadata": {},
   "source": [
    "### 3. Data Preparation"
   ]
  },
  {
   "cell_type": "markdown",
   "id": "5cf72ff4",
   "metadata": {},
   "source": [
    "#### To answer this question I will use 'HaveWorkedLanguage' column"
   ]
  },
  {
   "cell_type": "code",
   "execution_count": 6,
   "id": "bbba6a3a",
   "metadata": {},
   "outputs": [
    {
     "data": {
      "text/html": [
       "<div>\n",
       "<style scoped>\n",
       "    .dataframe tbody tr th:only-of-type {\n",
       "        vertical-align: middle;\n",
       "    }\n",
       "\n",
       "    .dataframe tbody tr th {\n",
       "        vertical-align: top;\n",
       "    }\n",
       "\n",
       "    .dataframe thead th {\n",
       "        text-align: right;\n",
       "    }\n",
       "</style>\n",
       "<table border=\"1\" class=\"dataframe\">\n",
       "  <thead>\n",
       "    <tr style=\"text-align: right;\">\n",
       "      <th></th>\n",
       "      <th>HaveWorkedLanguage</th>\n",
       "    </tr>\n",
       "  </thead>\n",
       "  <tbody>\n",
       "    <tr>\n",
       "      <th>0</th>\n",
       "      <td>Swift</td>\n",
       "    </tr>\n",
       "    <tr>\n",
       "      <th>1</th>\n",
       "      <td>JavaScript; Python; Ruby; SQL</td>\n",
       "    </tr>\n",
       "    <tr>\n",
       "      <th>2</th>\n",
       "      <td>Java; PHP; Python</td>\n",
       "    </tr>\n",
       "    <tr>\n",
       "      <th>3</th>\n",
       "      <td>Matlab; Python; R; SQL</td>\n",
       "    </tr>\n",
       "    <tr>\n",
       "      <th>4</th>\n",
       "      <td>NaN</td>\n",
       "    </tr>\n",
       "    <tr>\n",
       "      <th>...</th>\n",
       "      <td>...</td>\n",
       "    </tr>\n",
       "    <tr>\n",
       "      <th>51387</th>\n",
       "      <td>C#; JavaScript; Python; SQL; VB.NET; VBA</td>\n",
       "    </tr>\n",
       "    <tr>\n",
       "      <th>51388</th>\n",
       "      <td>Java; SQL</td>\n",
       "    </tr>\n",
       "    <tr>\n",
       "      <th>51389</th>\n",
       "      <td>NaN</td>\n",
       "    </tr>\n",
       "    <tr>\n",
       "      <th>51390</th>\n",
       "      <td>JavaScript; PHP; Swift</td>\n",
       "    </tr>\n",
       "    <tr>\n",
       "      <th>51391</th>\n",
       "      <td>Java; JavaScript; PHP; Python; Ruby; Swift</td>\n",
       "    </tr>\n",
       "  </tbody>\n",
       "</table>\n",
       "<p>51392 rows × 1 columns</p>\n",
       "</div>"
      ],
      "text/plain": [
       "                               HaveWorkedLanguage\n",
       "0                                           Swift\n",
       "1                   JavaScript; Python; Ruby; SQL\n",
       "2                               Java; PHP; Python\n",
       "3                          Matlab; Python; R; SQL\n",
       "4                                             NaN\n",
       "...                                           ...\n",
       "51387    C#; JavaScript; Python; SQL; VB.NET; VBA\n",
       "51388                                   Java; SQL\n",
       "51389                                         NaN\n",
       "51390                      JavaScript; PHP; Swift\n",
       "51391  Java; JavaScript; PHP; Python; Ruby; Swift\n",
       "\n",
       "[51392 rows x 1 columns]"
      ]
     },
     "execution_count": 6,
     "metadata": {},
     "output_type": "execute_result"
    }
   ],
   "source": [
    "df.HaveWorkedLanguage.to_frame()"
   ]
  },
  {
   "cell_type": "markdown",
   "id": "8b735ac9",
   "metadata": {},
   "source": [
    "#### Each row of 'HaveWorkedLanguage' column has multiple choices, so I will use customized dummy function to make the job easier"
   ]
  },
  {
   "cell_type": "markdown",
   "id": "8641ed63",
   "metadata": {},
   "source": [
    "#### Customized function to get dummy"
   ]
  },
  {
   "cell_type": "code",
   "execution_count": 7,
   "id": "7bf3a34f",
   "metadata": {},
   "outputs": [],
   "source": [
    "def categorize_feature(series):\n",
    "    series = series.apply(lambda value: list(value.replace(' ', '').split(';'))\n",
    "                       if type(value)!=float\n",
    "                       else float('nan'))\n",
    "    return pd.get_dummies(series.apply(pd.Series).stack(dropna=False)).sum(level=0)    "
   ]
  },
  {
   "cell_type": "code",
   "execution_count": 8,
   "id": "aabb2ec7",
   "metadata": {},
   "outputs": [
    {
     "data": {
      "text/html": [
       "<div>\n",
       "<style scoped>\n",
       "    .dataframe tbody tr th:only-of-type {\n",
       "        vertical-align: middle;\n",
       "    }\n",
       "\n",
       "    .dataframe tbody tr th {\n",
       "        vertical-align: top;\n",
       "    }\n",
       "\n",
       "    .dataframe thead th {\n",
       "        text-align: right;\n",
       "    }\n",
       "</style>\n",
       "<table border=\"1\" class=\"dataframe\">\n",
       "  <thead>\n",
       "    <tr style=\"text-align: right;\">\n",
       "      <th></th>\n",
       "      <th>Assembly</th>\n",
       "      <th>C</th>\n",
       "      <th>C#</th>\n",
       "      <th>C++</th>\n",
       "      <th>Clojure</th>\n",
       "      <th>CoffeeScript</th>\n",
       "      <th>CommonLisp</th>\n",
       "      <th>Dart</th>\n",
       "      <th>Elixir</th>\n",
       "      <th>Erlang</th>\n",
       "      <th>...</th>\n",
       "      <th>Ruby</th>\n",
       "      <th>Rust</th>\n",
       "      <th>SQL</th>\n",
       "      <th>Scala</th>\n",
       "      <th>Smalltalk</th>\n",
       "      <th>Swift</th>\n",
       "      <th>TypeScript</th>\n",
       "      <th>VB.NET</th>\n",
       "      <th>VBA</th>\n",
       "      <th>VisualBasic6</th>\n",
       "    </tr>\n",
       "  </thead>\n",
       "  <tbody>\n",
       "    <tr>\n",
       "      <th>0</th>\n",
       "      <td>0</td>\n",
       "      <td>0</td>\n",
       "      <td>0</td>\n",
       "      <td>0</td>\n",
       "      <td>0</td>\n",
       "      <td>0</td>\n",
       "      <td>0</td>\n",
       "      <td>0</td>\n",
       "      <td>0</td>\n",
       "      <td>0</td>\n",
       "      <td>...</td>\n",
       "      <td>0</td>\n",
       "      <td>0</td>\n",
       "      <td>0</td>\n",
       "      <td>0</td>\n",
       "      <td>0</td>\n",
       "      <td>1</td>\n",
       "      <td>0</td>\n",
       "      <td>0</td>\n",
       "      <td>0</td>\n",
       "      <td>0</td>\n",
       "    </tr>\n",
       "    <tr>\n",
       "      <th>1</th>\n",
       "      <td>0</td>\n",
       "      <td>0</td>\n",
       "      <td>0</td>\n",
       "      <td>0</td>\n",
       "      <td>0</td>\n",
       "      <td>0</td>\n",
       "      <td>0</td>\n",
       "      <td>0</td>\n",
       "      <td>0</td>\n",
       "      <td>0</td>\n",
       "      <td>...</td>\n",
       "      <td>1</td>\n",
       "      <td>0</td>\n",
       "      <td>1</td>\n",
       "      <td>0</td>\n",
       "      <td>0</td>\n",
       "      <td>0</td>\n",
       "      <td>0</td>\n",
       "      <td>0</td>\n",
       "      <td>0</td>\n",
       "      <td>0</td>\n",
       "    </tr>\n",
       "    <tr>\n",
       "      <th>2</th>\n",
       "      <td>0</td>\n",
       "      <td>0</td>\n",
       "      <td>0</td>\n",
       "      <td>0</td>\n",
       "      <td>0</td>\n",
       "      <td>0</td>\n",
       "      <td>0</td>\n",
       "      <td>0</td>\n",
       "      <td>0</td>\n",
       "      <td>0</td>\n",
       "      <td>...</td>\n",
       "      <td>0</td>\n",
       "      <td>0</td>\n",
       "      <td>0</td>\n",
       "      <td>0</td>\n",
       "      <td>0</td>\n",
       "      <td>0</td>\n",
       "      <td>0</td>\n",
       "      <td>0</td>\n",
       "      <td>0</td>\n",
       "      <td>0</td>\n",
       "    </tr>\n",
       "    <tr>\n",
       "      <th>3</th>\n",
       "      <td>0</td>\n",
       "      <td>0</td>\n",
       "      <td>0</td>\n",
       "      <td>0</td>\n",
       "      <td>0</td>\n",
       "      <td>0</td>\n",
       "      <td>0</td>\n",
       "      <td>0</td>\n",
       "      <td>0</td>\n",
       "      <td>0</td>\n",
       "      <td>...</td>\n",
       "      <td>0</td>\n",
       "      <td>0</td>\n",
       "      <td>1</td>\n",
       "      <td>0</td>\n",
       "      <td>0</td>\n",
       "      <td>0</td>\n",
       "      <td>0</td>\n",
       "      <td>0</td>\n",
       "      <td>0</td>\n",
       "      <td>0</td>\n",
       "    </tr>\n",
       "    <tr>\n",
       "      <th>4</th>\n",
       "      <td>0</td>\n",
       "      <td>0</td>\n",
       "      <td>0</td>\n",
       "      <td>0</td>\n",
       "      <td>0</td>\n",
       "      <td>0</td>\n",
       "      <td>0</td>\n",
       "      <td>0</td>\n",
       "      <td>0</td>\n",
       "      <td>0</td>\n",
       "      <td>...</td>\n",
       "      <td>0</td>\n",
       "      <td>0</td>\n",
       "      <td>0</td>\n",
       "      <td>0</td>\n",
       "      <td>0</td>\n",
       "      <td>0</td>\n",
       "      <td>0</td>\n",
       "      <td>0</td>\n",
       "      <td>0</td>\n",
       "      <td>0</td>\n",
       "    </tr>\n",
       "  </tbody>\n",
       "</table>\n",
       "<p>5 rows × 35 columns</p>\n",
       "</div>"
      ],
      "text/plain": [
       "   Assembly  C  C#  C++  Clojure  CoffeeScript  CommonLisp  Dart  Elixir  \\\n",
       "0         0  0   0    0        0             0           0     0       0   \n",
       "1         0  0   0    0        0             0           0     0       0   \n",
       "2         0  0   0    0        0             0           0     0       0   \n",
       "3         0  0   0    0        0             0           0     0       0   \n",
       "4         0  0   0    0        0             0           0     0       0   \n",
       "\n",
       "   Erlang  ...  Ruby  Rust  SQL  Scala  Smalltalk  Swift  TypeScript  VB.NET  \\\n",
       "0       0  ...     0     0    0      0          0      1           0       0   \n",
       "1       0  ...     1     0    1      0          0      0           0       0   \n",
       "2       0  ...     0     0    0      0          0      0           0       0   \n",
       "3       0  ...     0     0    1      0          0      0           0       0   \n",
       "4       0  ...     0     0    0      0          0      0           0       0   \n",
       "\n",
       "   VBA  VisualBasic6  \n",
       "0    0             0  \n",
       "1    0             0  \n",
       "2    0             0  \n",
       "3    0             0  \n",
       "4    0             0  \n",
       "\n",
       "[5 rows x 35 columns]"
      ]
     },
     "execution_count": 8,
     "metadata": {},
     "output_type": "execute_result"
    }
   ],
   "source": [
    "df_language = categorize_feature(df.HaveWorkedLanguage)\n",
    "df_language.head()"
   ]
  },
  {
   "cell_type": "markdown",
   "id": "10f7ae93",
   "metadata": {},
   "source": [
    "#### Count the number of times each language is used"
   ]
  },
  {
   "cell_type": "code",
   "execution_count": 9,
   "id": "94c4718b",
   "metadata": {},
   "outputs": [],
   "source": [
    "language_usage = df_language.sum().to_frame().T\n",
    "language_usage.rename(index={0:'Count'}, inplace=True)"
   ]
  },
  {
   "cell_type": "markdown",
   "id": "14912311",
   "metadata": {},
   "source": [
    "#### Sort"
   ]
  },
  {
   "cell_type": "code",
   "execution_count": 10,
   "id": "8c486817",
   "metadata": {},
   "outputs": [
    {
     "data": {
      "text/html": [
       "<div>\n",
       "<style scoped>\n",
       "    .dataframe tbody tr th:only-of-type {\n",
       "        vertical-align: middle;\n",
       "    }\n",
       "\n",
       "    .dataframe tbody tr th {\n",
       "        vertical-align: top;\n",
       "    }\n",
       "\n",
       "    .dataframe thead th {\n",
       "        text-align: right;\n",
       "    }\n",
       "</style>\n",
       "<table border=\"1\" class=\"dataframe\">\n",
       "  <thead>\n",
       "    <tr style=\"text-align: right;\">\n",
       "      <th></th>\n",
       "      <th>JavaScript</th>\n",
       "      <th>SQL</th>\n",
       "      <th>Java</th>\n",
       "      <th>C#</th>\n",
       "      <th>Python</th>\n",
       "      <th>PHP</th>\n",
       "      <th>C++</th>\n",
       "      <th>C</th>\n",
       "      <th>TypeScript</th>\n",
       "      <th>Ruby</th>\n",
       "      <th>...</th>\n",
       "      <th>F#</th>\n",
       "      <th>Rust</th>\n",
       "      <th>Clojure</th>\n",
       "      <th>Elixir</th>\n",
       "      <th>Smalltalk</th>\n",
       "      <th>Erlang</th>\n",
       "      <th>CommonLisp</th>\n",
       "      <th>Dart</th>\n",
       "      <th>Julia</th>\n",
       "      <th>Hack</th>\n",
       "    </tr>\n",
       "  </thead>\n",
       "  <tbody>\n",
       "    <tr>\n",
       "      <th>Count</th>\n",
       "      <td>22875</td>\n",
       "      <td>18754</td>\n",
       "      <td>14524</td>\n",
       "      <td>12476</td>\n",
       "      <td>11704</td>\n",
       "      <td>10290</td>\n",
       "      <td>8155</td>\n",
       "      <td>6974</td>\n",
       "      <td>3488</td>\n",
       "      <td>3324</td>\n",
       "      <td>...</td>\n",
       "      <td>457</td>\n",
       "      <td>416</td>\n",
       "      <td>391</td>\n",
       "      <td>380</td>\n",
       "      <td>327</td>\n",
       "      <td>281</td>\n",
       "      <td>273</td>\n",
       "      <td>145</td>\n",
       "      <td>138</td>\n",
       "      <td>107</td>\n",
       "    </tr>\n",
       "  </tbody>\n",
       "</table>\n",
       "<p>1 rows × 35 columns</p>\n",
       "</div>"
      ],
      "text/plain": [
       "       JavaScript    SQL   Java     C#  Python    PHP   C++     C  TypeScript  \\\n",
       "Count       22875  18754  14524  12476   11704  10290  8155  6974        3488   \n",
       "\n",
       "       Ruby  ...   F#  Rust  Clojure  Elixir  Smalltalk  Erlang  CommonLisp  \\\n",
       "Count  3324  ...  457   416      391     380        327     281         273   \n",
       "\n",
       "       Dart  Julia  Hack  \n",
       "Count   145    138   107  \n",
       "\n",
       "[1 rows x 35 columns]"
      ]
     },
     "execution_count": 10,
     "metadata": {},
     "output_type": "execute_result"
    }
   ],
   "source": [
    "language_usage = language_usage.sort_values(by=\"Count\", axis=1, ascending=False)\n",
    "language_usage"
   ]
  },
  {
   "cell_type": "markdown",
   "id": "243c99c4",
   "metadata": {},
   "source": [
    "### ~~4. Modeling~~"
   ]
  },
  {
   "cell_type": "markdown",
   "id": "a76fb86d",
   "metadata": {},
   "source": [
    "### 5. Evaluation"
   ]
  },
  {
   "cell_type": "markdown",
   "id": "7bb460ea",
   "metadata": {},
   "source": [
    "#### Visualize result"
   ]
  },
  {
   "cell_type": "code",
   "execution_count": 11,
   "id": "a17aae6e",
   "metadata": {
    "scrolled": false
   },
   "outputs": [
    {
     "data": {
      "image/png": "[encoded data removed]",
      "text/plain": [
       "<Figure size 1152x432 with 1 Axes>"
      ]
     },
     "metadata": {
      "needs_background": "light"
     },
     "output_type": "display_data"
    }
   ],
   "source": [
    "plt.figure(figsize=(16,6))\n",
    "sns.barplot(data=language_usage.iloc[:, :10], palette=\"Blues_d\")\n",
    "plt.title('Most Popular Language used')\n",
    "plt.ylabel('Number of users')\n",
    "plt.xlabel('Language')\n",
    "plt.show()"
   ]
  },
  {
   "cell_type": "code",
   "execution_count": 12,
   "id": "1e6ba893",
   "metadata": {},
   "outputs": [
    {
     "data": {
      "image/png": "[encoded data removed]",
      "text/plain": [
       "<Figure size 1152x288 with 1 Axes>"
      ]
     },
     "metadata": {
      "needs_background": "light"
     },
     "output_type": "display_data"
    }
   ],
   "source": [
    "plt.figure(figsize=(16,4))\n",
    "sns.barplot(data=language_usage.iloc[:, -10:], palette=\"magma_r\")\n",
    "\n",
    "plt.title('Least Popular Language used')\n",
    "plt.ylabel('Number of users')\n",
    "plt.xlabel('Language')\n",
    "plt.show()"
   ]
  },
  {
   "cell_type": "markdown",
   "id": "967ad718",
   "metadata": {},
   "source": [
    "### 6. Deployment"
   ]
  },
  {
   "cell_type": "markdown",
   "id": "33feb380",
   "metadata": {},
   "source": [
    "#### Many developers on stackoverflow prefer programming languages such as Javascript, SQL, Java, C#, and Python. However, on the contrary, programming languages such as CommonLisp, Dart, and Julia Hack were not preferred."
   ]
  },
  {
   "cell_type": "markdown",
   "id": "202160a9",
   "metadata": {},
   "source": [
    "***"
   ]
  },
  {
   "cell_type": "markdown",
   "id": "c0ba6dc4",
   "metadata": {},
   "source": [
    "## Q2. Is there a difference in programming languages between people with high salaries and those with low salaries?"
   ]
  },
  {
   "cell_type": "markdown",
   "id": "eb5c6b64",
   "metadata": {},
   "source": [
    "### 3. Data Preparation"
   ]
  },
  {
   "cell_type": "markdown",
   "id": "f85f6782",
   "metadata": {},
   "source": [
    "#### Distribution of salary "
   ]
  },
  {
   "cell_type": "code",
   "execution_count": 64,
   "id": "4f2ba3de",
   "metadata": {},
   "outputs": [
    {
     "data": {
      "text/plain": [
       "<AxesSubplot:xlabel='Salary', ylabel='Density'>"
      ]
     },
     "execution_count": 64,
     "metadata": {},
     "output_type": "execute_result"
    },
    {
     "data": {
      "image/png": "[encoded data removed]",
      "text/plain": [
       "<Figure size 1152x360 with 1 Axes>"
      ]
     },
     "metadata": {
      "needs_background": "light"
     },
     "output_type": "display_data"
    }
   ],
   "source": [
    "plt.figure(figsize=(16,5))\n",
    "df_salary = df.dropna(subset='Salary', axis=0)\n",
    "sns.distplot(df_salary.Salary)"
   ]
  },
  {
   "cell_type": "markdown",
   "id": "36b3646c",
   "metadata": {},
   "source": [
    "#### Sort df_salary by salary"
   ]
  },
  {
   "cell_type": "code",
   "execution_count": 14,
   "id": "99957d85",
   "metadata": {},
   "outputs": [],
   "source": [
    "salary_sorted = df_salary.sort_values(by='Salary', ascending=True)"
   ]
  },
  {
   "cell_type": "markdown",
   "id": "3a044686",
   "metadata": {},
   "source": [
    "#### I will compare salary with top 20% and bottom 20%"
   ]
  },
  {
   "cell_type": "code",
   "execution_count": 15,
   "id": "b49dd73c",
   "metadata": {},
   "outputs": [],
   "source": [
    "number_threshold = int(0.2*salary_sorted.shape[0])\n",
    "high_salary = salary_sorted.iloc[-number_threshold:, :].loc[:, ['HaveWorkedLanguage','Salary']]\n",
    "low_salary = salary_sorted.iloc[:number_threshold, :].loc[:, ['HaveWorkedLanguage','Salary']]"
   ]
  },
  {
   "cell_type": "markdown",
   "id": "fd03cecd",
   "metadata": {},
   "source": [
    "#### Get dummies using function from question 1"
   ]
  },
  {
   "cell_type": "code",
   "execution_count": 16,
   "id": "4702d139",
   "metadata": {},
   "outputs": [],
   "source": [
    "high_salary_languages = categorize_feature(high_salary.HaveWorkedLanguage)\n",
    "low_salary_languages = categorize_feature(low_salary.HaveWorkedLanguage)"
   ]
  },
  {
   "cell_type": "markdown",
   "id": "6b2bc797",
   "metadata": {},
   "source": [
    "#### Sum and sort each programming language"
   ]
  },
  {
   "cell_type": "code",
   "execution_count": 17,
   "id": "e520e191",
   "metadata": {},
   "outputs": [],
   "source": [
    "high_salary_languages = high_salary_languages.sum().to_frame().T\n",
    "high_salary_languages.rename(index={0:'Count'}, inplace=True)\n",
    "high_salary_languages = high_salary_languages.sort_values(by=\"Count\", axis=1, ascending=False)\n",
    "\n",
    "low_salary_languages = low_salary_languages.sum().to_frame().T\n",
    "low_salary_languages.rename(index={0:'Count'}, inplace=True)\n",
    "low_salary_languages = low_salary_languages.sort_values(by=\"Count\", axis=1, ascending=False)"
   ]
  },
  {
   "cell_type": "markdown",
   "id": "f6e6dff9",
   "metadata": {},
   "source": [
    "### ~~4. Modeling~~"
   ]
  },
  {
   "cell_type": "markdown",
   "id": "8823dde4",
   "metadata": {},
   "source": [
    "### 5. Evaluation"
   ]
  },
  {
   "cell_type": "markdown",
   "id": "4f663340",
   "metadata": {},
   "source": [
    "#### Visualize result"
   ]
  },
  {
   "cell_type": "code",
   "execution_count": 65,
   "id": "4d7a98b8",
   "metadata": {},
   "outputs": [
    {
     "data": {
      "image/png": "[encoded data removed]",
      "text/plain": [
       "<Figure size 1152x360 with 1 Axes>"
      ]
     },
     "metadata": {
      "needs_background": "light"
     },
     "output_type": "display_data"
    }
   ],
   "source": [
    "plt.figure(figsize=(16,5))\n",
    "sns.barplot(data=high_salary_languages.iloc[:, :10], palette=\"Blues_d\")\n",
    "\n",
    "plt.title('Ranking of programming languages used by the top 20%')\n",
    "plt.ylabel('Number of users')\n",
    "plt.xlabel('Language')\n",
    "plt.show()"
   ]
  },
  {
   "cell_type": "code",
   "execution_count": 66,
   "id": "c081cda6",
   "metadata": {},
   "outputs": [
    {
     "data": {
      "image/png": "[encoded data removed]",
      "text/plain": [
       "<Figure size 1152x360 with 1 Axes>"
      ]
     },
     "metadata": {
      "needs_background": "light"
     },
     "output_type": "display_data"
    }
   ],
   "source": [
    "plt.figure(figsize=(16,5))\n",
    "sns.barplot(data=low_salary_languages.iloc[:, :10], palette=\"Blues_d\")\n",
    "\n",
    "plt.title('Ranking of programming languages used by the low 20%')\n",
    "plt.ylabel('Number of users')\n",
    "plt.xlabel('Language')\n",
    "plt.show()"
   ]
  },
  {
   "cell_type": "markdown",
   "id": "392af229",
   "metadata": {},
   "source": [
    "### 6. Deployment"
   ]
  },
  {
   "cell_type": "markdown",
   "id": "8b5450c4",
   "metadata": {},
   "source": [
    "#### According to the results, the salary does not seem to change depending on the programming language used. Therefore, there seems to be a different factor that affects salary, and we have to look for it."
   ]
  },
  {
   "cell_type": "markdown",
   "id": "15cc20b3",
   "metadata": {},
   "source": [
    "***"
   ]
  },
  {
   "cell_type": "markdown",
   "id": "1c9a363e",
   "metadata": {},
   "source": [
    "## Q3. Which feature can best predict salary?"
   ]
  },
  {
   "cell_type": "markdown",
   "id": "9267570e",
   "metadata": {},
   "source": [
    "### 3. Data Preparation\n",
    "#### I will see how well each column predict through machine learning, so I will store the preprocessed columns as a dictionary."
   ]
  },
  {
   "cell_type": "code",
   "execution_count": 20,
   "id": "4fed1837",
   "metadata": {},
   "outputs": [],
   "source": [
    "X_dict = {}"
   ]
  },
  {
   "cell_type": "markdown",
   "id": "1747f4a8",
   "metadata": {},
   "source": [
    "#### Drop row if salary is nan"
   ]
  },
  {
   "cell_type": "code",
   "execution_count": 21,
   "id": "27f706df",
   "metadata": {},
   "outputs": [],
   "source": [
    "df = df.dropna(subset='Salary', axis=0)"
   ]
  },
  {
   "cell_type": "markdown",
   "id": "71be26db",
   "metadata": {},
   "source": [
    "#### Get X, y data"
   ]
  },
  {
   "cell_type": "code",
   "execution_count": 22,
   "id": "770c94bc",
   "metadata": {},
   "outputs": [],
   "source": [
    "X = df.drop('Salary', axis=1)\n",
    "y = df.Salary"
   ]
  },
  {
   "cell_type": "markdown",
   "id": "452904b2",
   "metadata": {},
   "source": [
    "#### Drop unnecessary columns or columns with all values of nan"
   ]
  },
  {
   "cell_type": "code",
   "execution_count": 23,
   "id": "775005e6",
   "metadata": {},
   "outputs": [],
   "source": [
    "X = X.drop('Respondent', axis=1)\n",
    "X = X.dropna(how='all', axis=1)"
   ]
  },
  {
   "cell_type": "markdown",
   "id": "91145dd4",
   "metadata": {},
   "source": [
    "#### Fill the nan values of numeric columns as average values"
   ]
  },
  {
   "cell_type": "code",
   "execution_count": 24,
   "id": "8bfe6abb",
   "metadata": {},
   "outputs": [],
   "source": [
    "columns_numeric = X.select_dtypes(include='float').columns\n",
    "for col in columns_numeric:\n",
    "    tmp = X[col]   \n",
    "    mean = tmp.mean()\n",
    "    tmp = tmp.fillna(mean, axis=0)\n",
    "    X_dict[col] = tmp"
   ]
  },
  {
   "cell_type": "markdown",
   "id": "d1164042",
   "metadata": {},
   "source": [
    "#### Drop numeric columns from X"
   ]
  },
  {
   "cell_type": "code",
   "execution_count": 25,
   "id": "4ae4d722",
   "metadata": {},
   "outputs": [],
   "source": [
    "X = X.drop(columns=columns_numeric)"
   ]
  },
  {
   "cell_type": "markdown",
   "id": "a213837a",
   "metadata": {},
   "source": [
    "#### Get dummies using customized method"
   ]
  },
  {
   "cell_type": "markdown",
   "id": "21614149",
   "metadata": {},
   "source": [
    "Function to get dummies if there is only one value"
   ]
  },
  {
   "cell_type": "code",
   "execution_count": 26,
   "id": "2a224a62",
   "metadata": {},
   "outputs": [],
   "source": [
    "def get_dummy_simple(series, dummy_na=False):\n",
    "    df = pd.DataFrame()\n",
    "    try:\n",
    "        df = pd.get_dummies(series, prefix=series.name, prefix_sep='_', drop_first=False, dummy_na=dummy_na)\n",
    "    except:\n",
    "        print(f\"Error with get_dummy_simple(), column: {series.name}\")\n",
    "    return df"
   ]
  },
  {
   "cell_type": "markdown",
   "id": "d33f2f21",
   "metadata": {},
   "source": [
    "Function to check if there is multiple values"
   ]
  },
  {
   "cell_type": "code",
   "execution_count": 27,
   "id": "a09f0faf",
   "metadata": {},
   "outputs": [],
   "source": [
    "def get_multiple_value_columns(df):\n",
    "    contain_semicolons = df.apply(lambda col: \n",
    "                                  col.str.contains(';').any()\n",
    "                                  if col.dtypes==object\n",
    "                                  else False)\n",
    "    df_contain_semicolons = df.loc[:, contain_semicolons]\n",
    "    multiple_value_columns = df_contain_semicolons.columns\n",
    "    return multiple_value_columns"
   ]
  },
  {
   "cell_type": "markdown",
   "id": "bd54e7b9",
   "metadata": {},
   "source": [
    "Customized get dummie function"
   ]
  },
  {
   "cell_type": "code",
   "execution_count": 28,
   "id": "ba195f9f",
   "metadata": {},
   "outputs": [],
   "source": [
    "def categorize_feature(series):\n",
    "    series = series.apply(lambda value: list(value.replace(' ','').split(';'))\n",
    "                       if type(value)!=float\n",
    "                       else float('nan'))\n",
    "    return pd.get_dummies(series.apply(pd.Series).stack(dropna=False), prefix=series.name, prefix_sep='_').sum(level=0)    "
   ]
  },
  {
   "cell_type": "markdown",
   "id": "5b5e65de",
   "metadata": {},
   "source": [
    "Get dummies"
   ]
  },
  {
   "cell_type": "code",
   "execution_count": 29,
   "id": "46a5afc5",
   "metadata": {},
   "outputs": [],
   "source": [
    "multiple_value_columns = get_multiple_value_columns(X)\n",
    "for col in X.columns:\n",
    "    if col in multiple_value_columns:\n",
    "        tmp = categorize_feature(X[col])\n",
    "    else:\n",
    "        tmp = get_dummy_simple(X[col])\n",
    "    X_dict[col] = tmp"
   ]
  },
  {
   "cell_type": "markdown",
   "id": "e7b14407",
   "metadata": {},
   "source": [
    "### 4. Modeling "
   ]
  },
  {
   "cell_type": "markdown",
   "id": "5b8b8967",
   "metadata": {},
   "source": [
    "#### Function to get r2socre"
   ]
  },
  {
   "cell_type": "code",
   "execution_count": 30,
   "id": "7a13a5d9",
   "metadata": {},
   "outputs": [],
   "source": [
    "def get_r2score(X, y):\n",
    "    X_train, X_test, y_train, y_test = train_test_split(X, y, random_state=42, test_size=.3)\n",
    "    model = LinearRegression(normalize=True)\n",
    "    model.fit(X_train, y_train)\n",
    "    pred = model.predict(X_test)\n",
    "    score = r2_score(y_test, pred)\n",
    "    return score    "
   ]
  },
  {
   "cell_type": "markdown",
   "id": "e4286e97",
   "metadata": {},
   "source": [
    "#### Get the results"
   ]
  },
  {
   "cell_type": "code",
   "execution_count": 31,
   "id": "09dc29d2",
   "metadata": {},
   "outputs": [],
   "source": [
    "results = []\n",
    "for col, _X in X_dict.items():\n",
    "    if col in columns_numeric:\n",
    "        _X = _X.values.reshape(-1,1)\n",
    "    score = get_r2score(_X, y)\n",
    "    results.append([col, score])"
   ]
  },
  {
   "cell_type": "markdown",
   "id": "62fcd90e",
   "metadata": {},
   "source": [
    "#### Sort and make dataframe"
   ]
  },
  {
   "cell_type": "code",
   "execution_count": 32,
   "id": "9fc8b50d",
   "metadata": {},
   "outputs": [],
   "source": [
    "result = pd.DataFrame(results).rename(columns={0:'Columns', 1:'Scores'}).set_index('Columns')"
   ]
  },
  {
   "cell_type": "code",
   "execution_count": 33,
   "id": "df844729",
   "metadata": {},
   "outputs": [],
   "source": [
    "result = result.sort_values(by='Scores', ascending=False)\n",
    "pd.options.display.float_format = '{:,.5f}'.format"
   ]
  },
  {
   "cell_type": "markdown",
   "id": "ba91cb94",
   "metadata": {},
   "source": [
    "### 5. Evaluation"
   ]
  },
  {
   "cell_type": "code",
   "execution_count": 34,
   "id": "ecc2a0da",
   "metadata": {},
   "outputs": [
    {
     "data": {
      "text/html": [
       "<div>\n",
       "<style scoped>\n",
       "    .dataframe tbody tr th:only-of-type {\n",
       "        vertical-align: middle;\n",
       "    }\n",
       "\n",
       "    .dataframe tbody tr th {\n",
       "        vertical-align: top;\n",
       "    }\n",
       "\n",
       "    .dataframe thead th {\n",
       "        text-align: right;\n",
       "    }\n",
       "</style>\n",
       "<table border=\"1\" class=\"dataframe\">\n",
       "  <thead>\n",
       "    <tr style=\"text-align: right;\">\n",
       "      <th></th>\n",
       "      <th>Scores</th>\n",
       "    </tr>\n",
       "    <tr>\n",
       "      <th>Columns</th>\n",
       "      <th></th>\n",
       "    </tr>\n",
       "  </thead>\n",
       "  <tbody>\n",
       "    <tr>\n",
       "      <th>Currency</th>\n",
       "      <td>0.41677</td>\n",
       "    </tr>\n",
       "    <tr>\n",
       "      <th>YearsCodedJob</th>\n",
       "      <td>0.20302</td>\n",
       "    </tr>\n",
       "    <tr>\n",
       "      <th>YearsProgram</th>\n",
       "      <td>0.17682</td>\n",
       "    </tr>\n",
       "    <tr>\n",
       "      <th>CompanyType</th>\n",
       "      <td>0.10318</td>\n",
       "    </tr>\n",
       "    <tr>\n",
       "      <th>IDE</th>\n",
       "      <td>0.07145</td>\n",
       "    </tr>\n",
       "    <tr>\n",
       "      <th>JobProfile</th>\n",
       "      <td>0.07008</td>\n",
       "    </tr>\n",
       "    <tr>\n",
       "      <th>ImportantBenefits</th>\n",
       "      <td>0.06665</td>\n",
       "    </tr>\n",
       "    <tr>\n",
       "      <th>Race</th>\n",
       "      <td>0.06423</td>\n",
       "    </tr>\n",
       "    <tr>\n",
       "      <th>HaveWorkedLanguage</th>\n",
       "      <td>0.05968</td>\n",
       "    </tr>\n",
       "    <tr>\n",
       "      <th>University</th>\n",
       "      <td>0.05951</td>\n",
       "    </tr>\n",
       "    <tr>\n",
       "      <th>Overpaid</th>\n",
       "      <td>0.05664</td>\n",
       "    </tr>\n",
       "    <tr>\n",
       "      <th>CompanySize</th>\n",
       "      <td>0.05192</td>\n",
       "    </tr>\n",
       "    <tr>\n",
       "      <th>HaveWorkedPlatform</th>\n",
       "      <td>0.05091</td>\n",
       "    </tr>\n",
       "    <tr>\n",
       "      <th>WantWorkLanguage</th>\n",
       "      <td>0.04288</td>\n",
       "    </tr>\n",
       "    <tr>\n",
       "      <th>MetricAssess</th>\n",
       "      <td>0.04287</td>\n",
       "    </tr>\n",
       "  </tbody>\n",
       "</table>\n",
       "</div>"
      ],
      "text/plain": [
       "                    Scores\n",
       "Columns                   \n",
       "Currency           0.41677\n",
       "YearsCodedJob      0.20302\n",
       "YearsProgram       0.17682\n",
       "CompanyType        0.10318\n",
       "IDE                0.07145\n",
       "JobProfile         0.07008\n",
       "ImportantBenefits  0.06665\n",
       "Race               0.06423\n",
       "HaveWorkedLanguage 0.05968\n",
       "University         0.05951\n",
       "Overpaid           0.05664\n",
       "CompanySize        0.05192\n",
       "HaveWorkedPlatform 0.05091\n",
       "WantWorkLanguage   0.04288\n",
       "MetricAssess       0.04287"
      ]
     },
     "execution_count": 34,
     "metadata": {},
     "output_type": "execute_result"
    }
   ],
   "source": [
    "result[:15]"
   ]
  },
  {
   "cell_type": "markdown",
   "id": "740ddb60",
   "metadata": {},
   "source": [
    "#### Drop 'Country' index because its value is way out of range"
   ]
  },
  {
   "cell_type": "code",
   "execution_count": 35,
   "id": "bd519938",
   "metadata": {},
   "outputs": [
    {
     "name": "stdout",
     "output_type": "stream",
     "text": [
      "Score of Country: Scores   -77,097,023,411,103,631,717,433,344.00000\n",
      "Name: Country, dtype: float64\n"
     ]
    }
   ],
   "source": [
    "print(f\"Score of Country: {result.loc['Country',:]}\")\n",
    "result = result.drop('Country', axis=0)"
   ]
  },
  {
   "cell_type": "markdown",
   "id": "2f4bf092",
   "metadata": {},
   "source": [
    "#### Visualize"
   ]
  },
  {
   "cell_type": "code",
   "execution_count": 51,
   "id": "fbaece08",
   "metadata": {},
   "outputs": [
    {
     "data": {
      "image/png": "[encoded data removed]",
      "text/plain": [
       "<Figure size 1152x576 with 1 Axes>"
      ]
     },
     "metadata": {
      "needs_background": "light"
     },
     "output_type": "display_data"
    }
   ],
   "source": [
    "plt.figure(figsize=(16,8))\n",
    "sns.barplot(data=result[:10].T, palette=\"Blues_d\")\n",
    "\n",
    "plt.title('r2 scores rank')\n",
    "plt.ylabel('r2 score')\n",
    "plt.xlabel('Columns')\n",
    "plt.show()"
   ]
  },
  {
   "cell_type": "markdown",
   "id": "7a895bab",
   "metadata": {},
   "source": [
    "### 6. Deployment"
   ]
  },
  {
   "cell_type": "markdown",
   "id": "23aa6856",
   "metadata": {},
   "source": [
    "#### According to the result, it can be seen that `currency` column has the highest r2 score of 0.4167. And the r2 score of the `HaveWorkedLanguage` column only had a value of 0.0596, which was low in terms of accuracy. This result is very similar to the result found in Question 2, indicating that the exact salary cannot be predicted using only the `HaveWorkedLanguage` column."
   ]
  },
  {
   "cell_type": "markdown",
   "id": "9a0b23c7",
   "metadata": {},
   "source": [
    "***"
   ]
  },
  {
   "cell_type": "markdown",
   "id": "28930a1a",
   "metadata": {},
   "source": [
    "## Q4. Can you find a pattern related to salary using the best column in the results of Q3?"
   ]
  },
  {
   "cell_type": "markdown",
   "id": "318cd203",
   "metadata": {},
   "source": [
    "#### I will use `Currency` column to find pattern using `salary_sorted` and `number_threshold` from Q2"
   ]
  },
  {
   "cell_type": "markdown",
   "id": "3e5d0d44",
   "metadata": {},
   "source": [
    "### 3. Data Preparation"
   ]
  },
  {
   "cell_type": "code",
   "execution_count": 44,
   "id": "5af1ac4f",
   "metadata": {},
   "outputs": [],
   "source": [
    "number_threshold = int(0.2*salary_sorted.shape[0])\n",
    "high_salary = salary_sorted.iloc[-number_threshold:, :].loc[:, ['Currency','Salary']]\n",
    "low_salary = salary_sorted.iloc[:number_threshold, :].loc[:, ['Currency','Salary']]"
   ]
  },
  {
   "cell_type": "code",
   "execution_count": 47,
   "id": "37027433",
   "metadata": {},
   "outputs": [],
   "source": [
    "high_salary_currency = categorize_feature(high_salary.Currency)\n",
    "low_salary_currency = categorize_feature(low_salary.Currency)"
   ]
  },
  {
   "cell_type": "code",
   "execution_count": 48,
   "id": "a1d4fad3",
   "metadata": {},
   "outputs": [],
   "source": [
    "high_salary_currency = high_salary_currency.sum().to_frame().T\n",
    "high_salary_currency.rename(index={0:'Count'}, inplace=True)\n",
    "high_salary_currency = high_salary_currency.sort_values(by=\"Count\", axis=1, ascending=False)\n",
    "\n",
    "low_salary_currency = low_salary_currency.sum().to_frame().T\n",
    "low_salary_currency.rename(index={0:'Count'}, inplace=True)\n",
    "low_salary_currency = low_salary_currency.sort_values(by=\"Count\", axis=1, ascending=False)"
   ]
  },
  {
   "cell_type": "markdown",
   "id": "f7f0503f",
   "metadata": {},
   "source": [
    "### ~~4. Modeling~~"
   ]
  },
  {
   "cell_type": "markdown",
   "id": "dfacde26",
   "metadata": {},
   "source": [
    "### 5. Evaluation"
   ]
  },
  {
   "cell_type": "code",
   "execution_count": 55,
   "id": "22831a8c",
   "metadata": {},
   "outputs": [
    {
     "data": {
      "image/png": "[encoded data removed]",
      "text/plain": [
       "<Figure size 1152x360 with 1 Axes>"
      ]
     },
     "metadata": {
      "needs_background": "light"
     },
     "output_type": "display_data"
    }
   ],
   "source": [
    "plt.figure(figsize=(16,5))\n",
    "sns.barplot(data=high_salary_currency.iloc[:, :6], palette=\"Blues_d\")\n",
    "\n",
    "plt.title('High salary currencies')\n",
    "plt.ylabel('Number of developer paid')\n",
    "plt.xlabel('Currencies')\n",
    "plt.show()"
   ]
  },
  {
   "cell_type": "code",
   "execution_count": 56,
   "id": "4bb3f5c5",
   "metadata": {
    "scrolled": true
   },
   "outputs": [
    {
     "data": {
      "image/png": "[encoded data removed]",
      "text/plain": [
       "<Figure size 1152x360 with 1 Axes>"
      ]
     },
     "metadata": {
      "needs_background": "light"
     },
     "output_type": "display_data"
    }
   ],
   "source": [
    "plt.figure(figsize=(16,5))\n",
    "sns.barplot(data=low_salary_currency.iloc[:, :6], palette=\"Blues_d\")\n",
    "\n",
    "plt.title('Low salary currencies')\n",
    "plt.ylabel('Number of developer paid')\n",
    "plt.xlabel('Currencies')\n",
    "plt.show()"
   ]
  },
  {
   "cell_type": "markdown",
   "id": "7f1ccc03",
   "metadata": {},
   "source": [
    "### 6. Deployment"
   ]
  },
  {
   "cell_type": "markdown",
   "id": "57b9a5a0",
   "metadata": {},
   "source": [
    "#### Judging from the results of the graph, it was found that most of the developers with high salaries received their salaries in USD. On the other hand, it was found that if the salary was low, the salary was received in several different currencies."
   ]
  }
 ],
 "metadata": {
  "kernelspec": {
   "display_name": "DataScience",
   "language": "python",
   "name": "thk"
  },
  "language_info": {
   "codemirror_mode": {
    "name": "ipython",
    "version": 3
   },
   "file_extension": ".py",
   "mimetype": "text/x-python",
   "name": "python",
   "nbconvert_exporter": "python",
   "pygments_lexer": "ipython3",
   "version": "3.10.4"
  }
 },
 "nbformat": 4,
 "nbformat_minor": 5
}